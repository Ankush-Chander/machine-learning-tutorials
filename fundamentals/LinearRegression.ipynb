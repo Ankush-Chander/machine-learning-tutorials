{
 "cells": [
  {
   "cell_type": "markdown",
   "id": "9a5099f6",
   "metadata": {},
   "source": [
    "### End goal: Given the amount company spends on radio advertisement predict the sales of the company\n",
    "### Method: Linear Regression\n",
    "#### a. via for loops\n",
    "#### b. via matix calculations\n",
    "#### b. via scikit-learn package"
   ]
  },
  {
   "cell_type": "markdown",
   "id": "7c3fbede",
   "metadata": {},
   "source": [
    "### via gradient descent"
   ]
  },
  {
   "cell_type": "code",
   "execution_count": 1,
   "id": "e9eba249",
   "metadata": {},
   "outputs": [],
   "source": [
    "import pandas as pd\n",
    "\n",
    "def load_data_from_csv(csv_path=\"\"):\n",
    "    df = pd.read_csv(csv_path)\n",
    "    radio_spendings = [df.loc[i]['radio'] for i in range(len(df))]\n",
    "    sales = [df.loc[i]['sales'] for i in range(len(df))]\n",
    "    return radio_spendings, sales\n",
    "# load_data_from_csv(\"advertising.csv\")"
   ]
  },
  {
   "cell_type": "code",
   "execution_count": 2,
   "id": "70fc622c",
   "metadata": {},
   "outputs": [],
   "source": [
    "# apply gradient descent and update parameters(w,b) during 1 epoch\n",
    "\n",
    "def update_w_and_b(spendings, sales, w, b, alpha):\n",
    "    N = len(spendings)\n",
    "    #     \n",
    "    dl_dw = 0.0\n",
    "    dl_db = 0.0\n",
    "    \n",
    "    for i in range(N):\n",
    "        # partial derivative of loss function wrt w for ith sample         \n",
    "        dl_dw += -2*(sales[i] - w*spendings[i] + b) *spendings[i]\n",
    "        # partial derivative of loss function wrt b for ith sample\n",
    "        dl_db += -2*(sales[i] - (w*spendings[i] + b))\n",
    "    \n",
    "    w = w - (1/float(N))*(alpha*dl_dw)\n",
    "    b = b - (1/float(N))*(alpha*dl_db)\n",
    "    return w, b\n",
    "                    "
   ]
  },
  {
   "cell_type": "code",
   "execution_count": 3,
   "id": "69c66f9c",
   "metadata": {},
   "outputs": [],
   "source": [
    "# run through multiple epochs \n",
    "def train(spendings, sales, w, b, alpha, epochs):\n",
    "    for e in range(epochs):\n",
    "        w, b = update_w_and_b(spendings, sales, w, b, alpha)\n",
    "        \n",
    "        if e%400==0:\n",
    "            l= avg_loss(spendings, sales, w, b)\n",
    "            print(f\"epoch: {e}, loss: {l}\")\n",
    "    return w, b"
   ]
  },
  {
   "cell_type": "code",
   "execution_count": 4,
   "id": "7501b5f9",
   "metadata": {},
   "outputs": [],
   "source": [
    "# function that calculates mean squared error\n",
    "def avg_loss(spendings, sales, w, b):\n",
    "    N = len(spendings)\n",
    "    total_error = 0.0\n",
    "    for i in range(N):\n",
    "        total_error += (sales[i] - (w*spendings[i] + b))**2\n",
    "    return total_error / float(N)"
   ]
  },
  {
   "cell_type": "code",
   "execution_count": 5,
   "id": "c5da9922",
   "metadata": {},
   "outputs": [],
   "source": [
    "def predict(new_x, w, b):\n",
    "    return w*new_x + b"
   ]
  },
  {
   "cell_type": "code",
   "execution_count": 6,
   "id": "928443b8",
   "metadata": {
    "scrolled": true
   },
   "outputs": [
    {
     "name": "stdout",
     "output_type": "stream",
     "text": [
      "epoch: 0, loss: 92.32078294903626\n",
      "epoch: 400, loss: 41.11464748716807\n",
      "epoch: 800, loss: 41.97329319752943\n",
      "epoch: 1200, loss: 42.27644837311585\n",
      "epoch: 1600, loss: 42.35875187053051\n",
      "epoch: 2000, loss: 42.37995725978558\n",
      "epoch: 2400, loss: 42.38535255764593\n",
      "epoch: 2800, loss: 42.38672097816313\n",
      "epoch: 3200, loss: 42.38706777810902\n",
      "epoch: 3600, loss: 42.38715565024873\n",
      "epoch: 4000, loss: 42.3871779141506\n",
      "epoch: 4400, loss: 42.38718355501624\n",
      "epoch: 4800, loss: 42.38718498420242\n",
      "epoch: 5200, loss: 42.387185346304896\n",
      "epoch: 5600, loss: 42.387185438048164\n",
      "epoch: 6000, loss: 42.38718546129245\n",
      "epoch: 6400, loss: 42.387185467181716\n",
      "epoch: 6800, loss: 42.38718546867381\n",
      "epoch: 7200, loss: 42.38718546905183\n",
      "epoch: 7600, loss: 42.38718546914762\n",
      "epoch: 8000, loss: 42.3871854691719\n",
      "epoch: 8400, loss: 42.38718546917805\n",
      "epoch: 8800, loss: 42.387185469179606\n",
      "epoch: 9200, loss: 42.38718546918\n",
      "epoch: 9600, loss: 42.38718546918\n",
      "epoch: 10000, loss: 42.38718546918\n",
      "epoch: 10400, loss: 42.38718546918\n",
      "epoch: 10800, loss: 42.38718546918\n",
      "epoch: 11200, loss: 42.38718546918\n",
      "epoch: 11600, loss: 42.38718546918\n",
      "epoch: 12000, loss: 42.38718546918\n",
      "epoch: 12400, loss: 42.38718546918\n",
      "epoch: 12800, loss: 42.38718546918\n",
      "epoch: 13200, loss: 42.38718546918\n",
      "epoch: 13600, loss: 42.38718546918\n",
      "epoch: 14000, loss: 42.38718546918\n",
      "epoch: 14400, loss: 42.38718546918\n",
      "epoch: 14800, loss: 42.38718546918\n",
      "w=0.535317677117909, b=1.568869559528909\n"
     ]
    },
    {
     "data": {
      "text/plain": [
       "13.881176133240817"
      ]
     },
     "execution_count": 6,
     "metadata": {},
     "output_type": "execute_result"
    }
   ],
   "source": [
    "spendings, sales = load_data_from_csv(\"advertising.csv\")\n",
    "w, b = train(spendings, sales, 0.0, 0.0, 0.001, 15000)\n",
    "print(f\"w={w}, b={b}\")\n",
    "x_new= 23.0\n",
    "predict(x_new, w, b)"
   ]
  },
  {
   "cell_type": "markdown",
   "id": "2c3f93d8",
   "metadata": {},
   "source": [
    "### via matrix calculations"
   ]
  },
  {
   "cell_type": "code",
   "execution_count": 7,
   "id": "71f2f8f5",
   "metadata": {},
   "outputs": [],
   "source": [
    "# function that calculates mean squared error\n",
    "def m_avg_loss(spendings, sales, w, b):\n",
    "    N = len(spendings)\n",
    "    total_error = 0.0\n",
    "#     for i in range(N):\n",
    "#         total_error += (sales[i] - (w*spendings[i] + b))**2\n",
    "    error_matrix = (sales- spendings*w +b)**2\n",
    "    total_error = sum(error_matrix)\n",
    "    return total_error / float(N)"
   ]
  },
  {
   "cell_type": "code",
   "execution_count": 8,
   "id": "7c54be42",
   "metadata": {},
   "outputs": [],
   "source": [
    "# update w and b during 1 epoch\n",
    "\n",
    "def m_update_w_and_b(spendings, sales, w, b, alpha):\n",
    "    N = len(spendings)       \n",
    "    \n",
    "    dl_dw_matrix = -2*(sales-w*spendings+b) *spendings\n",
    "    dl_db_matrix = -2*(sales - (w*spendings + b))\n",
    "    \n",
    "    dl_dw = sum(dl_dw_matrix)\n",
    "    dl_db = sum(dl_db_matrix)\n",
    "    \n",
    "    w = w - (1/float(N))*(alpha*dl_dw)\n",
    "    b = b - (1/float(N))*(alpha*dl_db)\n",
    "    return w, b"
   ]
  },
  {
   "cell_type": "code",
   "execution_count": 9,
   "id": "268b26d5",
   "metadata": {},
   "outputs": [],
   "source": [
    "def m_train(spendings, sales, w, b, alpha, epochs):\n",
    "    for e in range(epochs):\n",
    "        w, b = m_update_w_and_b(spendings, sales, w, b, alpha)\n",
    "        \n",
    "        if e%400==0:\n",
    "            l= m_avg_loss(spendings, sales, w, b)\n",
    "            print(f\"epoch: {e}, loss: {l}\")\n",
    "    return w, b\n",
    "        "
   ]
  },
  {
   "cell_type": "code",
   "execution_count": 10,
   "id": "4c7272aa",
   "metadata": {},
   "outputs": [],
   "source": [
    "def m_predict(new_x, w, b):\n",
    "    return w*new_x + b"
   ]
  },
  {
   "cell_type": "code",
   "execution_count": 11,
   "id": "baf756a7",
   "metadata": {},
   "outputs": [
    {
     "name": "stdout",
     "output_type": "stream",
     "text": [
      "epoch: 0, loss: [91.95930944]\n",
      "epoch: 400, loss: [49.81476655]\n",
      "epoch: 800, loss: [51.61160736]\n",
      "epoch: 1200, loss: [52.07471877]\n",
      "epoch: 1600, loss: [52.1925584]\n",
      "epoch: 2000, loss: [52.22244695]\n",
      "epoch: 2400, loss: [52.23002167]\n",
      "epoch: 2800, loss: [52.23194095]\n",
      "epoch: 3200, loss: [52.23242723]\n",
      "epoch: 3600, loss: [52.23255044]\n",
      "epoch: 4000, loss: [52.23258166]\n",
      "epoch: 4400, loss: [52.23258956]\n",
      "epoch: 4800, loss: [52.23259157]\n",
      "epoch: 5200, loss: [52.23259208]\n",
      "epoch: 5600, loss: [52.2325922]\n",
      "epoch: 6000, loss: [52.23259224]\n",
      "epoch: 6400, loss: [52.23259225]\n",
      "epoch: 6800, loss: [52.23259225]\n",
      "epoch: 7200, loss: [52.23259225]\n",
      "epoch: 7600, loss: [52.23259225]\n",
      "epoch: 8000, loss: [52.23259225]\n",
      "epoch: 8400, loss: [52.23259225]\n",
      "epoch: 8800, loss: [52.23259225]\n",
      "epoch: 9200, loss: [52.23259225]\n",
      "epoch: 9600, loss: [52.23259225]\n",
      "epoch: 10000, loss: [52.23259225]\n",
      "epoch: 10400, loss: [52.23259225]\n",
      "epoch: 10800, loss: [52.23259225]\n",
      "epoch: 11200, loss: [52.23259225]\n",
      "epoch: 11600, loss: [52.23259225]\n",
      "epoch: 12000, loss: [52.23259225]\n",
      "epoch: 12400, loss: [52.23259225]\n",
      "epoch: 12800, loss: [52.23259225]\n",
      "epoch: 13200, loss: [52.23259225]\n",
      "epoch: 13600, loss: [52.23259225]\n",
      "epoch: 14000, loss: [52.23259225]\n",
      "epoch: 14400, loss: [52.23259225]\n",
      "epoch: 14800, loss: [52.23259225]\n",
      "w=[0.53531768], b=[1.56886956]\n"
     ]
    },
    {
     "data": {
      "text/plain": [
       "array([13.88117613])"
      ]
     },
     "execution_count": 11,
     "metadata": {},
     "output_type": "execute_result"
    }
   ],
   "source": [
    "#via matrix\n",
    "import numpy as np\n",
    "spendings, sales = load_data_from_csv(\"advertising.csv\")\n",
    "N = len(spendings)\n",
    "spendings = np.array(spendings).reshape(N,1)\n",
    "sales = np.array(sales).reshape(N,1)\n",
    "w, b = m_train(spendings, sales, 0.0, 0.0, 0.001, 15000)\n",
    "print(f\"w={w}, b={b}\")\n",
    "x_new= 23.0\n",
    "m_predict(x_new, w, b)\n"
   ]
  },
  {
   "cell_type": "markdown",
   "id": "a69ccf86",
   "metadata": {},
   "source": [
    "### via scikit-learn "
   ]
  },
  {
   "cell_type": "code",
   "execution_count": 12,
   "id": "88db6086",
   "metadata": {},
   "outputs": [
    {
     "name": "stdout",
     "output_type": "stream",
     "text": [
      "[[13.96904111]]\n"
     ]
    }
   ],
   "source": [
    "# via scikit-learn\n",
    "import numpy as np\n",
    "def sci_train(x,y):\n",
    "    from sklearn.linear_model import LinearRegression\n",
    "    model = LinearRegression().fit(x,y)\n",
    "    return model\n",
    "\n",
    "spendings = np.array(spendings)\n",
    "sales = np.array(sales)\n",
    "model = sci_train(spendings.reshape(-1,1), sales)\n",
    "x_new = [[23.0]]\n",
    "y_new = model.predict(x_new)\n",
    "print(y_new)"
   ]
  },
  {
   "cell_type": "code",
   "execution_count": 13,
   "id": "49b44115",
   "metadata": {},
   "outputs": [],
   "source": [
    "# Probe further: \n",
    "# How does choice of learning rate effects the training?\n",
    "# Does more epoch means more accurate. Are their other ways in which gradient descent can be stopped pre maturely?\n",
    "# How does initial choice of parameters effect learning? "
   ]
  },
  {
   "cell_type": "markdown",
   "id": "cefca40d",
   "metadata": {},
   "source": [
    "### References:\n",
    "1. [Anatomy of a machine learning algorithm](https://www.dropbox.com/s/xpd5x6p6jte3th5/Chapter4.pdf)\n",
    "2. [scikit-learn Machine Learning in Python](https://scikit-learn.org/stable/index.html)\n",
    "3. [NumPy Quickstart](https://numpy.org/devdocs/user/quickstart.html)\n",
    "3. [Reshape your data either using array.reshape(-1, 1) if your data has a single feature or array.reshape(1, -1) if it contains a single sample\n",
    "](https://stackoverflow.com/questions/58663739/reshape-your-data-either-using-array-reshape-1-1-if-your-data-has-a-single-fe) "
   ]
  }
 ],
 "metadata": {
  "kernelspec": {
   "display_name": "Python 3 (ipykernel)",
   "language": "python",
   "name": "python3"
  },
  "language_info": {
   "codemirror_mode": {
    "name": "ipython",
    "version": 3
   },
   "file_extension": ".py",
   "mimetype": "text/x-python",
   "name": "python",
   "nbconvert_exporter": "python",
   "pygments_lexer": "ipython3",
   "version": "3.8.10"
  }
 },
 "nbformat": 4,
 "nbformat_minor": 5
}
